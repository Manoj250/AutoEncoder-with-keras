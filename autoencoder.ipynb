{
  "nbformat": 4,
  "nbformat_minor": 0,
  "metadata": {
    "colab": {
      "name": "autoencoder.ipynb",
      "provenance": [],
      "authorship_tag": "ABX9TyPKXHgsI0Itdppw16q6Gcph",
      "include_colab_link": true
    },
    "kernelspec": {
      "name": "python3",
      "display_name": "Python 3"
    },
    "language_info": {
      "name": "python"
    }
  },
  "cells": [
    {
      "cell_type": "markdown",
      "metadata": {
        "id": "view-in-github",
        "colab_type": "text"
      },
      "source": [
        "<a href=\"https://colab.research.google.com/github/Manoj250/AutoEncoder-with-keras/blob/main/autoencoder.ipynb\" target=\"_parent\"><img src=\"https://colab.research.google.com/assets/colab-badge.svg\" alt=\"Open In Colab\"/></a>"
      ]
    },
    {
      "cell_type": "code",
      "execution_count": 12,
      "metadata": {
        "id": "qJ7m2Nq-Yd1t"
      },
      "outputs": [],
      "source": [
        "from keras.layers import Dense,Conv2D,Conv2DTranspose,MaxPooling2D,Input,Flatten,Reshape,UpSampling2D"
      ]
    },
    {
      "cell_type": "code",
      "source": [
        "from keras import Model"
      ],
      "metadata": {
        "id": "RyxfXbxYZPM-"
      },
      "execution_count": 6,
      "outputs": []
    },
    {
      "cell_type": "code",
      "source": [
        "from keras.datasets import mnist"
      ],
      "metadata": {
        "id": "cuxjnMvqnTib"
      },
      "execution_count": 26,
      "outputs": []
    },
    {
      "cell_type": "code",
      "source": [
        "import numpy as np"
      ],
      "metadata": {
        "id": "NfLsvGAsoBIC"
      },
      "execution_count": 29,
      "outputs": []
    },
    {
      "cell_type": "code",
      "source": [
        "import matplotlib.pyplot as plt"
      ],
      "metadata": {
        "id": "0dA_U56UwWqS"
      },
      "execution_count": 57,
      "outputs": []
    },
    {
      "cell_type": "code",
      "source": [
        "import random"
      ],
      "metadata": {
        "id": "LgrHaQnLwiQt"
      },
      "execution_count": 58,
      "outputs": []
    },
    {
      "cell_type": "code",
      "source": [
        "def build_encoder():\n",
        "  input = Input(shape=(28,28,1))\n",
        "  x = Conv2D(32,(3,3),strides=2,padding=\"same\",activation=\"relu\")(input)\n",
        "  x = Conv2D(64,(3,3),strides=2,padding=\"same\",activation=\"relu\")(x)\n",
        "  x = Flatten()(x)\n",
        "  x = Dense(20)(x)\n",
        "  encoder = Model(inputs=input,outputs=x)\n",
        "  return encoder"
      ],
      "metadata": {
        "id": "8XLEkPYlZSr3"
      },
      "execution_count": 36,
      "outputs": []
    },
    {
      "cell_type": "code",
      "source": [
        "build_encoder().summary()"
      ],
      "metadata": {
        "colab": {
          "base_uri": "https://localhost:8080/"
        },
        "id": "oYGxP9j-c6hl",
        "outputId": "99921b12-4907-46a1-ad15-18ab3819772d"
      },
      "execution_count": 37,
      "outputs": [
        {
          "output_type": "stream",
          "name": "stdout",
          "text": [
            "Model: \"model_10\"\n",
            "_________________________________________________________________\n",
            " Layer (type)                Output Shape              Param #   \n",
            "=================================================================\n",
            " input_11 (InputLayer)       [(None, 28, 28, 1)]       0         \n",
            "                                                                 \n",
            " conv2d_8 (Conv2D)           (None, 14, 14, 32)        320       \n",
            "                                                                 \n",
            " conv2d_9 (Conv2D)           (None, 7, 7, 64)          18496     \n",
            "                                                                 \n",
            " flatten_4 (Flatten)         (None, 3136)              0         \n",
            "                                                                 \n",
            " dense_9 (Dense)             (None, 20)                62740     \n",
            "                                                                 \n",
            "=================================================================\n",
            "Total params: 81,556\n",
            "Trainable params: 81,556\n",
            "Non-trainable params: 0\n",
            "_________________________________________________________________\n"
          ]
        }
      ]
    },
    {
      "cell_type": "code",
      "source": [
        "def build_decoder():\n",
        "  input = Input(20)\n",
        "  x = Dense(7*7*64)(input)\n",
        "  x = Reshape((7,7,64))(x)\n",
        "  x = Conv2DTranspose(64,(3,3),2,activation=\"relu\",padding=\"same\")(x)\n",
        "  x = Conv2DTranspose(32,(3,3),2,activation=\"relu\",padding=\"same\")(x)\n",
        "  x = Conv2DTranspose(1,(3,3),1,activation=\"sigmoid\",padding=\"same\")(x)\n",
        "  decoder = Model(inputs = input , outputs = x)\n",
        "  return decoder"
      ],
      "metadata": {
        "id": "ebqgg3dndJVk"
      },
      "execution_count": 41,
      "outputs": []
    },
    {
      "cell_type": "code",
      "source": [
        "build_decoder().summary()"
      ],
      "metadata": {
        "colab": {
          "base_uri": "https://localhost:8080/"
        },
        "id": "DZn9DzkUljRu",
        "outputId": "9b87457e-17f5-4c01-a48b-0b31dffcbb5e"
      },
      "execution_count": 42,
      "outputs": [
        {
          "output_type": "stream",
          "name": "stdout",
          "text": [
            "Model: \"model_14\"\n",
            "_________________________________________________________________\n",
            " Layer (type)                Output Shape              Param #   \n",
            "=================================================================\n",
            " input_16 (InputLayer)       [(None, 20)]              0         \n",
            "                                                                 \n",
            " dense_13 (Dense)            (None, 3136)              65856     \n",
            "                                                                 \n",
            " reshape_7 (Reshape)         (None, 7, 7, 64)          0         \n",
            "                                                                 \n",
            " conv2d_transpose_21 (Conv2D  (None, 14, 14, 64)       36928     \n",
            " Transpose)                                                      \n",
            "                                                                 \n",
            " conv2d_transpose_22 (Conv2D  (None, 28, 28, 32)       18464     \n",
            " Transpose)                                                      \n",
            "                                                                 \n",
            " conv2d_transpose_23 (Conv2D  (None, 28, 28, 1)        289       \n",
            " Transpose)                                                      \n",
            "                                                                 \n",
            "=================================================================\n",
            "Total params: 121,537\n",
            "Trainable params: 121,537\n",
            "Non-trainable params: 0\n",
            "_________________________________________________________________\n"
          ]
        }
      ]
    },
    {
      "cell_type": "code",
      "source": [
        "encoder = build_encoder()\n",
        "decoder = build_decoder()\n",
        "\n",
        "input = Input((28,28,1))\n",
        "auto_encoder = Model(inputs=input,outputs=decoder(encoder(input)))"
      ],
      "metadata": {
        "id": "coZFnBuFmpLN"
      },
      "execution_count": 43,
      "outputs": []
    },
    {
      "cell_type": "code",
      "source": [
        "auto_encoder.summary()"
      ],
      "metadata": {
        "colab": {
          "base_uri": "https://localhost:8080/"
        },
        "id": "fcmoL3IvpSGB",
        "outputId": "091cb786-41ab-4321-afef-a26dd5df585d"
      },
      "execution_count": 44,
      "outputs": [
        {
          "output_type": "stream",
          "name": "stdout",
          "text": [
            "Model: \"model_17\"\n",
            "_________________________________________________________________\n",
            " Layer (type)                Output Shape              Param #   \n",
            "=================================================================\n",
            " input_19 (InputLayer)       [(None, 28, 28, 1)]       0         \n",
            "                                                                 \n",
            " model_15 (Functional)       (None, 20)                81556     \n",
            "                                                                 \n",
            " model_16 (Functional)       (None, 28, 28, 1)         121537    \n",
            "                                                                 \n",
            "=================================================================\n",
            "Total params: 203,093\n",
            "Trainable params: 203,093\n",
            "Non-trainable params: 0\n",
            "_________________________________________________________________\n"
          ]
        }
      ]
    },
    {
      "cell_type": "code",
      "source": [
        "(x_train,_),(x_test,_) = mnist.load_data()"
      ],
      "metadata": {
        "id": "0y6V-YmBnR59"
      },
      "execution_count": 45,
      "outputs": []
    },
    {
      "cell_type": "code",
      "source": [
        "print(x_train.shape,x_test.shape)"
      ],
      "metadata": {
        "colab": {
          "base_uri": "https://localhost:8080/"
        },
        "id": "jqlJ-v6Kn1Xk",
        "outputId": "6ac5efee-188c-4e11-b49a-2c4e7f702d28"
      },
      "execution_count": 46,
      "outputs": [
        {
          "output_type": "stream",
          "name": "stdout",
          "text": [
            "(60000, 28, 28) (10000, 28, 28)\n"
          ]
        }
      ]
    },
    {
      "cell_type": "code",
      "source": [
        "x_train,x_test = np.expand_dims(x_train,axis=-1),np.expand_dims(x_test,axis=-1)"
      ],
      "metadata": {
        "id": "RcnDO3eln8v6"
      },
      "execution_count": 47,
      "outputs": []
    },
    {
      "cell_type": "code",
      "source": [
        "np.max(x_train)"
      ],
      "metadata": {
        "colab": {
          "base_uri": "https://localhost:8080/"
        },
        "id": "m_OaMyRXrWVR",
        "outputId": "a2d44aa2-0b2b-4343-ebb8-c272abfe4069"
      },
      "execution_count": 52,
      "outputs": [
        {
          "output_type": "execute_result",
          "data": {
            "text/plain": [
              "255"
            ]
          },
          "metadata": {},
          "execution_count": 52
        }
      ]
    },
    {
      "cell_type": "code",
      "source": [
        "x_train,x_test = x_train.astype(\"float32\")/255.0,x_test.astype(\"float32\")/255.0"
      ],
      "metadata": {
        "id": "ttmbMJPerf5H"
      },
      "execution_count": 53,
      "outputs": []
    },
    {
      "cell_type": "code",
      "source": [
        "np.max(x_train)"
      ],
      "metadata": {
        "colab": {
          "base_uri": "https://localhost:8080/"
        },
        "id": "bP6Fx9KBrwCP",
        "outputId": "25d50478-c435-4785-8550-e82933f42586"
      },
      "execution_count": 54,
      "outputs": [
        {
          "output_type": "execute_result",
          "data": {
            "text/plain": [
              "1.0"
            ]
          },
          "metadata": {},
          "execution_count": 54
        }
      ]
    },
    {
      "cell_type": "code",
      "source": [
        "print(x_train.shape,x_test.shape)"
      ],
      "metadata": {
        "colab": {
          "base_uri": "https://localhost:8080/"
        },
        "id": "KNxSYIAQoUPx",
        "outputId": "3da3fe4a-2476-479a-ac60-606718c08b69"
      },
      "execution_count": 48,
      "outputs": [
        {
          "output_type": "stream",
          "name": "stdout",
          "text": [
            "(60000, 28, 28, 1) (10000, 28, 28, 1)\n"
          ]
        }
      ]
    },
    {
      "cell_type": "code",
      "source": [
        "auto_encoder.compile(optimizer=\"Adam\",loss=\"binary_crossentropy\")"
      ],
      "metadata": {
        "id": "v2FT7SqPoWHa"
      },
      "execution_count": 55,
      "outputs": []
    },
    {
      "cell_type": "code",
      "source": [
        "auto_encoder.fit(x_train,x_train,epochs=10,verbose=1,validation_data=(x_test,x_test))"
      ],
      "metadata": {
        "colab": {
          "base_uri": "https://localhost:8080/"
        },
        "id": "_6-VeWcAoptS",
        "outputId": "e1446348-c766-425f-89fe-db5c48b948df"
      },
      "execution_count": 56,
      "outputs": [
        {
          "output_type": "stream",
          "name": "stdout",
          "text": [
            "Epoch 1/10\n",
            "1875/1875 [==============================] - 95s 50ms/step - loss: 0.1320 - val_loss: 0.0884\n",
            "Epoch 2/10\n",
            "1875/1875 [==============================] - 94s 50ms/step - loss: 0.0863 - val_loss: 0.0834\n",
            "Epoch 3/10\n",
            "1875/1875 [==============================] - 95s 50ms/step - loss: 0.0830 - val_loss: 0.0815\n",
            "Epoch 4/10\n",
            "1875/1875 [==============================] - 95s 51ms/step - loss: 0.0812 - val_loss: 0.0803\n",
            "Epoch 5/10\n",
            "1875/1875 [==============================] - 95s 51ms/step - loss: 0.0802 - val_loss: 0.0796\n",
            "Epoch 6/10\n",
            "1875/1875 [==============================] - 95s 51ms/step - loss: 0.0794 - val_loss: 0.0791\n",
            "Epoch 7/10\n",
            "1875/1875 [==============================] - 95s 51ms/step - loss: 0.0788 - val_loss: 0.0786\n",
            "Epoch 8/10\n",
            "1875/1875 [==============================] - 95s 51ms/step - loss: 0.0783 - val_loss: 0.0782\n",
            "Epoch 9/10\n",
            "1875/1875 [==============================] - 96s 51ms/step - loss: 0.0779 - val_loss: 0.0778\n",
            "Epoch 10/10\n",
            "1875/1875 [==============================] - 96s 51ms/step - loss: 0.0776 - val_loss: 0.0777\n"
          ]
        },
        {
          "output_type": "execute_result",
          "data": {
            "text/plain": [
              "<keras.callbacks.History at 0x7feb408b2ad0>"
            ]
          },
          "metadata": {},
          "execution_count": 56
        }
      ]
    },
    {
      "cell_type": "code",
      "source": [
        "random_image = random.choice(x_test)\n",
        "decoded_image = auto_encoder.predict(np.expand_dims(random_image,axis=0))\n",
        "\n",
        "plt.subplot(1,2,1)\n",
        "plt.title(\"original\")\n",
        "plt.imshow(random_image.squeeze(),cmap=\"gray\")\n",
        "\n",
        "plt.subplot(1,2,2)\n",
        "plt.title(\"decoded\")\n",
        "plt.imshow(decoded_image.squeeze(),cmap=\"gray\")\n",
        "\n",
        "plt.show()\n"
      ],
      "metadata": {
        "colab": {
          "base_uri": "https://localhost:8080/",
          "height": 216
        },
        "id": "22NVnQCNwU-F",
        "outputId": "e1ed1782-a0a1-47b9-cc9b-d9f19808c955"
      },
      "execution_count": 68,
      "outputs": [
        {
          "output_type": "display_data",
          "data": {
            "image/png": "[encoded data removed]",
            "text/plain": [
              "<Figure size 432x288 with 2 Axes>"
            ]
          },
          "metadata": {
            "needs_background": "light"
          }
        }
      ]
    }
  ]
}